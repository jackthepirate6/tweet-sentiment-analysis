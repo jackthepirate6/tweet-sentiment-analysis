{
 "cells": [
  {
   "cell_type": "code",
   "execution_count": 1,
   "metadata": {},
   "outputs": [
    {
     "name": "stderr",
     "output_type": "stream",
     "text": [
      "/usr/local/lib/python3.5/dist-packages/numpy/lib/arraysetops.py:522: FutureWarning: elementwise comparison failed; returning scalar instead, but in the future will perform elementwise comparison\n",
      "  mask |= (ar1 == a)\n"
     ]
    },
    {
     "data": {
      "text/html": [
       "<div>\n",
       "<style scoped>\n",
       "    .dataframe tbody tr th:only-of-type {\n",
       "        vertical-align: middle;\n",
       "    }\n",
       "\n",
       "    .dataframe tbody tr th {\n",
       "        vertical-align: top;\n",
       "    }\n",
       "\n",
       "    .dataframe thead th {\n",
       "        text-align: right;\n",
       "    }\n",
       "</style>\n",
       "<table border=\"1\" class=\"dataframe\">\n",
       "  <thead>\n",
       "    <tr style=\"text-align: right;\">\n",
       "      <th></th>\n",
       "      <th>text</th>\n",
       "      <th>target</th>\n",
       "    </tr>\n",
       "  </thead>\n",
       "  <tbody>\n",
       "    <tr>\n",
       "      <th>0</th>\n",
       "      <td>awww that bummer you shoulda got david carr of...</td>\n",
       "      <td>0</td>\n",
       "    </tr>\n",
       "    <tr>\n",
       "      <th>1</th>\n",
       "      <td>is upset that he can not update his facebook b...</td>\n",
       "      <td>0</td>\n",
       "    </tr>\n",
       "    <tr>\n",
       "      <th>2</th>\n",
       "      <td>dived many times for the ball managed to save ...</td>\n",
       "      <td>0</td>\n",
       "    </tr>\n",
       "    <tr>\n",
       "      <th>3</th>\n",
       "      <td>my whole body feels itchy and like its on fire</td>\n",
       "      <td>0</td>\n",
       "    </tr>\n",
       "    <tr>\n",
       "      <th>4</th>\n",
       "      <td>no it not behaving at all mad why am here beca...</td>\n",
       "      <td>0</td>\n",
       "    </tr>\n",
       "  </tbody>\n",
       "</table>\n",
       "</div>"
      ],
      "text/plain": [
       "                                                text  target\n",
       "0  awww that bummer you shoulda got david carr of...       0\n",
       "1  is upset that he can not update his facebook b...       0\n",
       "2  dived many times for the ball managed to save ...       0\n",
       "3     my whole body feels itchy and like its on fire       0\n",
       "4  no it not behaving at all mad why am here beca...       0"
      ]
     },
     "execution_count": 1,
     "metadata": {},
     "output_type": "execute_result"
    }
   ],
   "source": [
    "import pandas as pd  \n",
    "import numpy as np\n",
    "\n",
    "csv = 'clean_tweet.csv'\n",
    "my_df = pd.read_csv(csv,index_col=0)\n",
    "my_df.head()\n"
   ]
  },
  {
   "cell_type": "code",
   "execution_count": 2,
   "metadata": {},
   "outputs": [
    {
     "name": "stdout",
     "output_type": "stream",
     "text": [
      "<class 'pandas.core.frame.DataFrame'>\n",
      "RangeIndex: 1596522 entries, 0 to 1596521\n",
      "Data columns (total 2 columns):\n",
      "text      1596522 non-null object\n",
      "target    1596522 non-null int64\n",
      "dtypes: int64(1), object(1)\n",
      "memory usage: 24.4+ MB\n"
     ]
    }
   ],
   "source": [
    "my_df.dropna(inplace=True)\n",
    "my_df.reset_index(drop=True,inplace=True)\n",
    "my_df.info()"
   ]
  },
  {
   "cell_type": "code",
   "execution_count": 3,
   "metadata": {},
   "outputs": [],
   "source": [
    "x = my_df.text\n",
    "y = my_df.target"
   ]
  },
  {
   "cell_type": "code",
   "execution_count": 4,
   "metadata": {},
   "outputs": [
    {
     "name": "stderr",
     "output_type": "stream",
     "text": [
      "/usr/local/lib/python3.5/dist-packages/sklearn/cross_validation.py:41: DeprecationWarning: This module was deprecated in version 0.18 in favor of the model_selection module into which all the refactored classes and functions are moved. Also note that the interface of the new CV iterators are different from that of this module. This module will be removed in 0.20.\n",
      "  \"This module will be removed in 0.20.\", DeprecationWarning)\n"
     ]
    }
   ],
   "source": [
    "from sklearn.cross_validation import train_test_split\n",
    "SEED = 2000\n",
    "x_train, x_validation_and_test, y_train, y_validation_and_test = train_test_split(x, y, test_size=.02, random_state=SEED)\n",
    "x_validation, x_test, y_validation, y_test = train_test_split(x_validation_and_test, y_validation_and_test, test_size=.5, random_state=SEED)"
   ]
  },
  {
   "cell_type": "code",
   "execution_count": 15,
   "metadata": {},
   "outputs": [],
   "source": [
    "from tqdm import tqdm\n",
    "tqdm.pandas(desc=\"progress-bar\")\n",
    "from gensim.models import Doc2Vec\n",
    "from gensim.models.doc2vec import LabeledSentence\n",
    "import multiprocessing\n",
    "from sklearn import utils\n",
    "from sklearn.linear_model import LogisticRegression"
   ]
  },
  {
   "cell_type": "code",
   "execution_count": 6,
   "metadata": {},
   "outputs": [],
   "source": [
    "def get_vectors(model, corpus, size):\n",
    "    vecs = np.zeros((len(corpus), size))\n",
    "    n = 0\n",
    "    for i in corpus.index:\n",
    "        prefix = 'all_' + str(i)\n",
    "        vecs[n] = model.docvecs[prefix]\n",
    "        n += 1\n",
    "    return vecs"
   ]
  },
  {
   "cell_type": "code",
   "execution_count": 7,
   "metadata": {},
   "outputs": [],
   "source": [
    "def get_concat_vectors(model1,model2, corpus, size):\n",
    "    vecs = np.zeros((len(corpus), size))\n",
    "    n = 0\n",
    "    for i in corpus.index:\n",
    "        prefix = 'all_' + str(i)\n",
    "        vecs[n] = np.append(model1.docvecs[prefix],model2.docvecs[prefix])\n",
    "        n += 1\n",
    "    return vecs\n"
   ]
  },
  {
   "cell_type": "code",
   "execution_count": 8,
   "metadata": {},
   "outputs": [],
   "source": [
    "from gensim.models.phrases import Phrases\n",
    "from gensim.models.phrases import Phraser"
   ]
  },
  {
   "cell_type": "code",
   "execution_count": 9,
   "metadata": {},
   "outputs": [],
   "source": [
    "tokenized_train = [t.split() for t in x_train]\n"
   ]
  },
  {
   "cell_type": "code",
   "execution_count": 10,
   "metadata": {},
   "outputs": [],
   "source": [
    "phrases = Phrases(tokenized_train)\n",
    "bigram = Phraser(phrases)"
   ]
  },
  {
   "cell_type": "code",
   "execution_count": 11,
   "metadata": {},
   "outputs": [],
   "source": [
    "def labelize_tweets_bg(tweets,label):\n",
    "    result = []\n",
    "    prefix = label\n",
    "    for i, t in zip(tweets.index, tweets):\n",
    "        result.append(LabeledSentence(bigram[t.split()], [prefix + '_%s' % i]))\n",
    "    return result"
   ]
  },
  {
   "cell_type": "code",
   "execution_count": 12,
   "metadata": {},
   "outputs": [
    {
     "name": "stderr",
     "output_type": "stream",
     "text": [
      "/usr/local/lib/python3.5/dist-packages/ipykernel_launcher.py:5: DeprecationWarning: Call to deprecated `LabeledSentence` (Class will be removed in 4.0.0, use TaggedDocument instead).\n",
      "  \"\"\"\n"
     ]
    }
   ],
   "source": [
    "all_x = pd.concat([x_train,x_validation,x_test])\n",
    "all_x_w2v_bg = labelize_tweets_bg(all_x, 'all')"
   ]
  },
  {
   "cell_type": "code",
   "execution_count": 17,
   "metadata": {},
   "outputs": [
    {
     "name": "stderr",
     "output_type": "stream",
     "text": [
      "/usr/local/lib/python3.5/dist-packages/gensim/models/doc2vec.py:580: UserWarning: The parameter `size` is deprecated, will be removed in 4.0.0, use `vector_size` instead.\n",
      "  warnings.warn(\"The parameter `size` is deprecated, will be removed in 4.0.0, use `vector_size` instead.\")\n",
      "100%|██████████| 1596522/1596522 [00:00<00:00, 3066400.74it/s]\n"
     ]
    }
   ],
   "source": [
    "cores = multiprocessing.cpu_count()\n",
    "model_bg_dbow = Doc2Vec(dm=0, size=100, negative=5, min_count=2, workers=cores, alpha=0.065, min_alpha=0.065)\n",
    "model_bg_dbow.build_vocab([x for x in tqdm(all_x_w2v_bg)])\n"
   ]
  },
  {
   "cell_type": "code",
   "execution_count": 31,
   "metadata": {},
   "outputs": [
    {
     "name": "stderr",
     "output_type": "stream",
     "text": [
      "100%|██████████| 1596522/1596522 [00:00<00:00, 2428593.83it/s]\n",
      "100%|██████████| 1596522/1596522 [00:00<00:00, 2119747.95it/s]\n",
      "100%|██████████| 1596522/1596522 [00:00<00:00, 1738595.68it/s]\n",
      "100%|██████████| 1596522/1596522 [00:00<00:00, 1903104.20it/s]\n",
      "100%|██████████| 1596522/1596522 [00:00<00:00, 2033416.45it/s]\n",
      "100%|██████████| 1596522/1596522 [00:00<00:00, 2238034.06it/s]\n",
      "100%|██████████| 1596522/1596522 [00:00<00:00, 1686045.58it/s]\n",
      "100%|██████████| 1596522/1596522 [00:01<00:00, 1543414.58it/s]\n",
      "100%|██████████| 1596522/1596522 [00:00<00:00, 3265082.35it/s]\n",
      "100%|██████████| 1596522/1596522 [00:00<00:00, 3367918.99it/s]\n",
      "100%|██████████| 1596522/1596522 [00:00<00:00, 3463898.95it/s]\n",
      "100%|██████████| 1596522/1596522 [00:00<00:00, 3310084.98it/s]\n",
      "100%|██████████| 1596522/1596522 [00:00<00:00, 3367222.94it/s]\n",
      "100%|██████████| 1596522/1596522 [00:00<00:00, 3385809.67it/s]\n",
      "100%|██████████| 1596522/1596522 [00:00<00:00, 3410150.97it/s]\n",
      "100%|██████████| 1596522/1596522 [00:00<00:00, 3166375.60it/s]\n",
      "100%|██████████| 1596522/1596522 [00:00<00:00, 3310778.89it/s]\n",
      "100%|██████████| 1596522/1596522 [00:00<00:00, 3350578.47it/s]\n",
      "100%|██████████| 1596522/1596522 [00:00<00:00, 3337223.24it/s]\n",
      "100%|██████████| 1596522/1596522 [00:00<00:00, 3353724.87it/s]\n",
      "100%|██████████| 1596522/1596522 [00:00<00:00, 3314836.85it/s]\n",
      "100%|██████████| 1596522/1596522 [00:00<00:00, 2846699.01it/s]\n",
      "100%|██████████| 1596522/1596522 [00:00<00:00, 2864653.15it/s]\n",
      "100%|██████████| 1596522/1596522 [00:00<00:00, 3078074.44it/s]\n",
      "100%|██████████| 1596522/1596522 [00:00<00:00, 3053224.60it/s]\n",
      "100%|██████████| 1596522/1596522 [00:00<00:00, 3069764.63it/s]\n",
      "100%|██████████| 1596522/1596522 [00:00<00:00, 3257873.63it/s]\n",
      "100%|██████████| 1596522/1596522 [00:00<00:00, 2830264.65it/s]\n",
      "100%|██████████| 1596522/1596522 [00:00<00:00, 3270068.25it/s]\n",
      "100%|██████████| 1596522/1596522 [00:00<00:00, 3233976.98it/s]\n"
     ]
    }
   ],
   "source": [
    "for epoch in range(30):\n",
    "    model_bg_dbow.train(utils.shuffle([x for x in tqdm(all_x_w2v_bg)]), total_examples=len(all_x_w2v_bg), epochs=1)\n",
    "    model_bg_dbow.alpha -= 0.002\n",
    "    model_bg_dbow.min_alpha = model_bg_dbow.alpha\n"
   ]
  },
  {
   "cell_type": "code",
   "execution_count": 13,
   "metadata": {},
   "outputs": [
    {
     "ename": "NameError",
     "evalue": "name 'model_bg_dbow' is not defined",
     "output_type": "error",
     "traceback": [
      "\u001b[0;31m---------------------------------------------------------------------------\u001b[0m",
      "\u001b[0;31mNameError\u001b[0m                                 Traceback (most recent call last)",
      "\u001b[0;32m<ipython-input-13-a7d3d87c5383>\u001b[0m in \u001b[0;36m<module>\u001b[0;34m()\u001b[0m\n\u001b[0;32m----> 1\u001b[0;31m \u001b[0mtrain_vecs_dbow_bg\u001b[0m \u001b[0;34m=\u001b[0m \u001b[0mget_vectors\u001b[0m\u001b[0;34m(\u001b[0m\u001b[0mmodel_bg_dbow\u001b[0m\u001b[0;34m,\u001b[0m \u001b[0mx_train\u001b[0m\u001b[0;34m,\u001b[0m \u001b[0;36m100\u001b[0m\u001b[0;34m)\u001b[0m\u001b[0;34m\u001b[0m\u001b[0m\n\u001b[0m\u001b[1;32m      2\u001b[0m \u001b[0mvalidation_vecs_dbow_bg\u001b[0m \u001b[0;34m=\u001b[0m \u001b[0mget_vectors\u001b[0m\u001b[0;34m(\u001b[0m\u001b[0mmodel_bg_dbow\u001b[0m\u001b[0;34m,\u001b[0m \u001b[0mx_validation\u001b[0m\u001b[0;34m,\u001b[0m \u001b[0;36m100\u001b[0m\u001b[0;34m)\u001b[0m\u001b[0;34m\u001b[0m\u001b[0m\n",
      "\u001b[0;31mNameError\u001b[0m: name 'model_bg_dbow' is not defined"
     ]
    }
   ],
   "source": [
    "train_vecs_dbow_bg = get_vectors(model_bg_dbow, x_train, 100)\n",
    "validation_vecs_dbow_bg = get_vectors(model_bg_dbow, x_validation, 100)"
   ]
  },
  {
   "cell_type": "code",
   "execution_count": 16,
   "metadata": {},
   "outputs": [
    {
     "data": {
      "text/plain": [
       "0.7441904165361729"
      ]
     },
     "execution_count": 16,
     "metadata": {},
     "output_type": "execute_result"
    }
   ],
   "source": [
    "clf = LogisticRegression()\n",
    "clf.fit(train_vecs_dbow_bg, y_train)\n",
    "clf.score(validation_vecs_dbow_bg, y_validation)\n"
   ]
  },
  {
   "cell_type": "code",
   "execution_count": 17,
   "metadata": {},
   "outputs": [
    {
     "data": {
      "text/plain": [
       "0.7441904165361729"
      ]
     },
     "execution_count": 17,
     "metadata": {},
     "output_type": "execute_result"
    }
   ],
   "source": [
    "clf.score(validation_vecs_dbow_bg, y_validation)\n"
   ]
  },
  {
   "cell_type": "code",
   "execution_count": 18,
   "metadata": {},
   "outputs": [],
   "source": [
    "model_bg_dbow.save('d2v_model_bg_dbow.doc2vec')\n"
   ]
  },
  {
   "cell_type": "code",
   "execution_count": 13,
   "metadata": {},
   "outputs": [
    {
     "name": "stderr",
     "output_type": "stream",
     "text": [
      "/usr/local/lib/python3.5/dist-packages/gensim/models/doc2vec.py:580: UserWarning: The parameter `size` is deprecated, will be removed in 4.0.0, use `vector_size` instead.\n",
      "  warnings.warn(\"The parameter `size` is deprecated, will be removed in 4.0.0, use `vector_size` instead.\")\n",
      "100%|██████████| 1596522/1596522 [00:00<00:00, 3468393.30it/s]\n"
     ]
    }
   ],
   "source": [
    "cores = multiprocessing.cpu_count()\n",
    "model_bg_dmc = Doc2Vec(dm=1, dm_concat=1, size=100, window=2, negative=5, min_count=2, workers=cores, alpha=0.065, min_alpha=0.065)\n",
    "model_bg_dmc.build_vocab([x for x in tqdm(all_x_w2v_bg)])\n"
   ]
  },
  {
   "cell_type": "code",
   "execution_count": 14,
   "metadata": {},
   "outputs": [
    {
     "name": "stderr",
     "output_type": "stream",
     "text": [
      "100%|██████████| 1596522/1596522 [00:00<00:00, 3074685.26it/s]\n",
      "100%|██████████| 1596522/1596522 [00:00<00:00, 3270873.29it/s]\n",
      "100%|██████████| 1596522/1596522 [00:00<00:00, 3169513.92it/s]\n",
      "100%|██████████| 1596522/1596522 [00:00<00:00, 3372954.01it/s]\n",
      "100%|██████████| 1596522/1596522 [00:00<00:00, 3294098.10it/s]\n",
      "100%|██████████| 1596522/1596522 [00:00<00:00, 3443761.91it/s]\n",
      "100%|██████████| 1596522/1596522 [00:00<00:00, 3474054.24it/s]\n",
      "100%|██████████| 1596522/1596522 [00:00<00:00, 3418819.73it/s]\n",
      "100%|██████████| 1596522/1596522 [00:00<00:00, 3456277.21it/s]\n",
      "100%|██████████| 1596522/1596522 [00:00<00:00, 3431393.19it/s]\n",
      "100%|██████████| 1596522/1596522 [00:00<00:00, 3497192.66it/s]\n",
      "100%|██████████| 1596522/1596522 [00:00<00:00, 3256683.71it/s]\n",
      "100%|██████████| 1596522/1596522 [00:00<00:00, 3427604.61it/s]\n",
      "100%|██████████| 1596522/1596522 [00:00<00:00, 3487212.36it/s]\n",
      "100%|██████████| 1596522/1596522 [00:00<00:00, 3496303.41it/s]\n",
      "100%|██████████| 1596522/1596522 [00:00<00:00, 3426841.58it/s]\n",
      "100%|██████████| 1596522/1596522 [00:00<00:00, 3450311.30it/s]\n",
      "100%|██████████| 1596522/1596522 [00:00<00:00, 3469757.36it/s]\n",
      "100%|██████████| 1596522/1596522 [00:00<00:00, 3502676.90it/s]\n",
      "100%|██████████| 1596522/1596522 [00:00<00:00, 3427606.36it/s]\n",
      "100%|██████████| 1596522/1596522 [00:00<00:00, 3462727.50it/s]\n",
      "100%|██████████| 1596522/1596522 [00:00<00:00, 3478643.67it/s]\n",
      "100%|██████████| 1596522/1596522 [00:00<00:00, 3406561.62it/s]\n",
      "100%|██████████| 1596522/1596522 [00:00<00:00, 3477530.84it/s]\n",
      "100%|██████████| 1596522/1596522 [00:00<00:00, 3461735.78it/s]\n",
      "100%|██████████| 1596522/1596522 [00:00<00:00, 3451228.88it/s]\n",
      "100%|██████████| 1596522/1596522 [00:00<00:00, 3347981.91it/s]\n",
      "100%|██████████| 1596522/1596522 [00:00<00:00, 3486676.71it/s]\n",
      "100%|██████████| 1596522/1596522 [00:00<00:00, 3379224.66it/s]\n",
      "100%|██████████| 1596522/1596522 [00:00<00:00, 3402488.75it/s]\n"
     ]
    }
   ],
   "source": [
    "for epoch in range(30):\n",
    "    model_bg_dmc.train(utils.shuffle([x for x in tqdm(all_x_w2v_bg)]), total_examples=len(all_x_w2v_bg), epochs=1)\n",
    "    model_bg_dmc.alpha -= 0.002\n",
    "    model_bg_dmc.min_alpha = model_bg_dmc.alpha"
   ]
  },
  {
   "cell_type": "code",
   "execution_count": 18,
   "metadata": {},
   "outputs": [],
   "source": [
    "train_vecs_dmc_bg = get_vectors(model_bg_dmc, x_train, 100)\n",
    "validation_vecs_dmc_bg = get_vectors(model_bg_dmc, x_validation, 100)"
   ]
  },
  {
   "cell_type": "code",
   "execution_count": 19,
   "metadata": {},
   "outputs": [
    {
     "data": {
      "text/plain": [
       "LogisticRegression(C=1.0, class_weight=None, dual=False, fit_intercept=True,\n",
       "          intercept_scaling=1, max_iter=100, multi_class='ovr', n_jobs=1,\n",
       "          penalty='l2', random_state=None, solver='liblinear', tol=0.0001,\n",
       "          verbose=0, warm_start=False)"
      ]
     },
     "execution_count": 19,
     "metadata": {},
     "output_type": "execute_result"
    }
   ],
   "source": [
    "clf = LogisticRegression()\n",
    "clf.fit(train_vecs_dmc_bg, y_train)"
   ]
  },
  {
   "cell_type": "code",
   "execution_count": 20,
   "metadata": {},
   "outputs": [
    {
     "data": {
      "text/plain": [
       "0.659066708424679"
      ]
     },
     "execution_count": 20,
     "metadata": {},
     "output_type": "execute_result"
    }
   ],
   "source": [
    "clf.score(validation_vecs_dmc_bg, y_validation)\n"
   ]
  },
  {
   "cell_type": "code",
   "execution_count": 21,
   "metadata": {},
   "outputs": [],
   "source": [
    "model_bg_dmc.save('d2v_model_bg_dmc.doc2vec')\n"
   ]
  },
  {
   "cell_type": "code",
   "execution_count": 22,
   "metadata": {},
   "outputs": [
    {
     "name": "stderr",
     "output_type": "stream",
     "text": [
      "/usr/local/lib/python3.5/dist-packages/gensim/models/doc2vec.py:580: UserWarning: The parameter `size` is deprecated, will be removed in 4.0.0, use `vector_size` instead.\n",
      "  warnings.warn(\"The parameter `size` is deprecated, will be removed in 4.0.0, use `vector_size` instead.\")\n",
      "100%|██████████| 1596522/1596522 [00:08<00:00, 198571.29it/s]\n"
     ]
    }
   ],
   "source": [
    "cores = multiprocessing.cpu_count()\n",
    "model_bg_dmm = Doc2Vec(dm=1, dm_mean=1, size=100, window=4, negative=5, min_count=2, workers=cores, alpha=0.065, min_alpha=0.065)\n",
    "model_bg_dmm.build_vocab([x for x in tqdm(all_x_w2v_bg)])\n"
   ]
  },
  {
   "cell_type": "code",
   "execution_count": 24,
   "metadata": {},
   "outputs": [
    {
     "name": "stderr",
     "output_type": "stream",
     "text": [
      "100%|██████████| 1596522/1596522 [00:00<00:00, 3173581.68it/s]\n",
      "100%|██████████| 1596522/1596522 [00:00<00:00, 3362098.65it/s]\n",
      "100%|██████████| 1596522/1596522 [00:00<00:00, 3261941.10it/s]\n",
      "100%|██████████| 1596522/1596522 [00:00<00:00, 3361852.21it/s]\n",
      "100%|██████████| 1596522/1596522 [00:00<00:00, 3398817.17it/s]\n",
      "100%|██████████| 1596522/1596522 [00:00<00:00, 3461948.75it/s]\n",
      "100%|██████████| 1596522/1596522 [00:00<00:00, 3403033.43it/s]\n",
      "100%|██████████| 1596522/1596522 [00:00<00:00, 3418194.96it/s]\n",
      "100%|██████████| 1596522/1596522 [00:00<00:00, 3461402.95it/s]\n",
      "100%|██████████| 1596522/1596522 [00:00<00:00, 2848794.15it/s]\n",
      "100%|██████████| 1596522/1596522 [00:00<00:00, 3469496.69it/s]\n",
      "100%|██████████| 1596522/1596522 [00:00<00:00, 3418282.20it/s]\n",
      "100%|██████████| 1596522/1596522 [00:00<00:00, 3309901.74it/s]\n",
      "100%|██████████| 1596522/1596522 [00:00<00:00, 3346471.05it/s]\n",
      "100%|██████████| 1596522/1596522 [00:00<00:00, 3236423.12it/s]\n",
      "100%|██████████| 1596522/1596522 [00:00<00:00, 3430480.85it/s]\n",
      "100%|██████████| 1596522/1596522 [00:00<00:00, 3475879.18it/s]\n",
      "100%|██████████| 1596522/1596522 [00:00<00:00, 3452691.63it/s]\n",
      "100%|██████████| 1596522/1596522 [00:00<00:00, 3361109.74it/s]\n",
      "100%|██████████| 1596522/1596522 [00:00<00:00, 3367285.59it/s]\n",
      "100%|██████████| 1596522/1596522 [00:00<00:00, 3413365.06it/s]\n",
      "100%|██████████| 1596522/1596522 [00:00<00:00, 3405257.17it/s]\n",
      "100%|██████████| 1596522/1596522 [00:00<00:00, 3433566.13it/s]\n",
      "100%|██████████| 1596522/1596522 [00:00<00:00, 3350799.79it/s]\n",
      "100%|██████████| 1596522/1596522 [00:00<00:00, 3474865.49it/s]\n",
      "100%|██████████| 1596522/1596522 [00:00<00:00, 3488365.92it/s]\n",
      "100%|██████████| 1596522/1596522 [00:00<00:00, 3446138.53it/s]\n",
      "100%|██████████| 1596522/1596522 [00:00<00:00, 3310282.98it/s]\n",
      "100%|██████████| 1596522/1596522 [00:00<00:00, 3409274.18it/s]\n",
      "100%|██████████| 1596522/1596522 [00:00<00:00, 3344537.21it/s]\n"
     ]
    }
   ],
   "source": [
    "for epoch in range(30):\n",
    "    model_bg_dmm.train(utils.shuffle([x for x in tqdm(all_x_w2v_bg)]), total_examples=len(all_x_w2v_bg), epochs=1)\n",
    "    model_bg_dmm.alpha -= 0.002\n",
    "    model_bg_dmm.min_alpha = model_bg_dmm.alpha"
   ]
  },
  {
   "cell_type": "code",
   "execution_count": 25,
   "metadata": {},
   "outputs": [],
   "source": [
    "train_vecs_dmm_bg = get_vectors(model_bg_dmm, x_train, 100)\n",
    "validation_vecs_dmm_bg = get_vectors(model_bg_dmm, x_validation, 100)\n"
   ]
  },
  {
   "cell_type": "code",
   "execution_count": 26,
   "metadata": {},
   "outputs": [
    {
     "data": {
      "text/plain": [
       "LogisticRegression(C=1.0, class_weight=None, dual=False, fit_intercept=True,\n",
       "          intercept_scaling=1, max_iter=100, multi_class='ovr', n_jobs=1,\n",
       "          penalty='l2', random_state=None, solver='liblinear', tol=0.0001,\n",
       "          verbose=0, warm_start=False)"
      ]
     },
     "execution_count": 26,
     "metadata": {},
     "output_type": "execute_result"
    }
   ],
   "source": [
    "clf = LogisticRegression()\n",
    "clf.fit(train_vecs_dmm_bg, y_train)\n"
   ]
  },
  {
   "cell_type": "code",
   "execution_count": 27,
   "metadata": {},
   "outputs": [
    {
     "data": {
      "text/plain": [
       "0.7399310992796743"
      ]
     },
     "execution_count": 27,
     "metadata": {},
     "output_type": "execute_result"
    }
   ],
   "source": [
    "clf.score(validation_vecs_dmm_bg, y_validation)\n"
   ]
  },
  {
   "cell_type": "code",
   "execution_count": 28,
   "metadata": {},
   "outputs": [],
   "source": [
    "model_bg_dmm.save('d2v_model_bg_dmm.doc2vec')\n"
   ]
  },
  {
   "cell_type": "code",
   "execution_count": 32,
   "metadata": {},
   "outputs": [],
   "source": [
    "train_vecs_dbow_dmc_bg = get_concat_vectors(model_bg_dbow,model_bg_dmc, x_train, 200)\n",
    "validation_vecs_dbow_dmc_bg = get_concat_vectors(model_bg_dbow,model_bg_dmc, x_validation, 200)"
   ]
  },
  {
   "cell_type": "code",
   "execution_count": 33,
   "metadata": {},
   "outputs": [
    {
     "data": {
      "text/plain": [
       "LogisticRegression(C=1.0, class_weight=None, dual=False, fit_intercept=True,\n",
       "          intercept_scaling=1, max_iter=100, multi_class='ovr', n_jobs=1,\n",
       "          penalty='l2', random_state=None, solver='liblinear', tol=0.0001,\n",
       "          verbose=0, warm_start=False)"
      ]
     },
     "execution_count": 33,
     "metadata": {},
     "output_type": "execute_result"
    }
   ],
   "source": [
    "clf = LogisticRegression()\n",
    "clf.fit(train_vecs_dbow_dmc_bg, y_train)"
   ]
  },
  {
   "cell_type": "code",
   "execution_count": 34,
   "metadata": {},
   "outputs": [
    {
     "data": {
      "text/plain": [
       "0.7472596304415909"
      ]
     },
     "execution_count": 34,
     "metadata": {},
     "output_type": "execute_result"
    }
   ],
   "source": [
    "clf.score(validation_vecs_dbow_dmc_bg, y_validation)\n"
   ]
  },
  {
   "cell_type": "code",
   "execution_count": 35,
   "metadata": {},
   "outputs": [],
   "source": [
    "train_vecs_dbow_dmm_bg = get_concat_vectors(model_bg_dbow,model_bg_dmm, x_train, 200)\n",
    "validation_vecs_dbow_dmm_bg = get_concat_vectors(model_bg_dbow,model_bg_dmm, x_validation, 200)\n"
   ]
  },
  {
   "cell_type": "code",
   "execution_count": 36,
   "metadata": {},
   "outputs": [
    {
     "data": {
      "text/plain": [
       "LogisticRegression(C=1.0, class_weight=None, dual=False, fit_intercept=True,\n",
       "          intercept_scaling=1, max_iter=100, multi_class='ovr', n_jobs=1,\n",
       "          penalty='l2', random_state=None, solver='liblinear', tol=0.0001,\n",
       "          verbose=0, warm_start=False)"
      ]
     },
     "execution_count": 36,
     "metadata": {},
     "output_type": "execute_result"
    }
   ],
   "source": [
    "clf = LogisticRegression()\n",
    "clf.fit(train_vecs_dbow_dmm_bg, y_train)\n"
   ]
  },
  {
   "cell_type": "code",
   "execution_count": 37,
   "metadata": {},
   "outputs": [
    {
     "data": {
      "text/plain": [
       "0.7612276855621672"
      ]
     },
     "execution_count": 37,
     "metadata": {},
     "output_type": "execute_result"
    }
   ],
   "source": [
    "clf.score(validation_vecs_dbow_dmm_bg, y_validation)\n"
   ]
  },
  {
   "cell_type": "code",
   "execution_count": 13,
   "metadata": {},
   "outputs": [],
   "source": [
    "tg_phrases = Phrases(bigram[tokenized_train])\n",
    "trigram = Phraser(tg_phrases)\n"
   ]
  },
  {
   "cell_type": "code",
   "execution_count": 14,
   "metadata": {},
   "outputs": [],
   "source": [
    "def labelize_tweets_tg(tweets,label):\n",
    "    result = []\n",
    "    prefix = label\n",
    "    for i, t in zip(tweets.index, tweets):\n",
    "        result.append(LabeledSentence(trigram[bigram[t.split()]], [prefix + '_%s' % i]))\n",
    "    return result\n"
   ]
  },
  {
   "cell_type": "code",
   "execution_count": 15,
   "metadata": {},
   "outputs": [
    {
     "name": "stderr",
     "output_type": "stream",
     "text": [
      "/usr/local/lib/python3.5/dist-packages/ipykernel_launcher.py:5: DeprecationWarning: Call to deprecated `LabeledSentence` (Class will be removed in 4.0.0, use TaggedDocument instead).\n",
      "  \"\"\"\n"
     ]
    }
   ],
   "source": [
    "all_x = pd.concat([x_train,x_validation,x_test])\n",
    "all_x_w2v_tg = labelize_tweets_tg(all_x, 'all')\n"
   ]
  },
  {
   "cell_type": "code",
   "execution_count": 19,
   "metadata": {},
   "outputs": [
    {
     "name": "stderr",
     "output_type": "stream",
     "text": [
      "/usr/local/lib/python3.5/dist-packages/gensim/models/doc2vec.py:580: UserWarning: The parameter `size` is deprecated, will be removed in 4.0.0, use `vector_size` instead.\n",
      "  warnings.warn(\"The parameter `size` is deprecated, will be removed in 4.0.0, use `vector_size` instead.\")\n",
      "100%|██████████| 1596522/1596522 [00:01<00:00, 909602.33it/s] \n"
     ]
    }
   ],
   "source": [
    "model_tg_dbow = Doc2Vec(dm=0, size=100, negative=5, min_count=2, workers=cores, alpha=0.065, min_alpha=0.065)\n",
    "model_tg_dbow.build_vocab([x for x in tqdm(all_x_w2v_tg)])\n"
   ]
  },
  {
   "cell_type": "code",
   "execution_count": 20,
   "metadata": {},
   "outputs": [
    {
     "name": "stderr",
     "output_type": "stream",
     "text": [
      "100%|██████████| 1596522/1596522 [00:00<00:00, 3356750.98it/s]\n",
      "100%|██████████| 1596522/1596522 [00:00<00:00, 3378668.82it/s]\n",
      "100%|██████████| 1596522/1596522 [00:00<00:00, 3450592.21it/s]\n",
      "100%|██████████| 1596522/1596522 [00:00<00:00, 3428978.91it/s]\n",
      "100%|██████████| 1596522/1596522 [00:00<00:00, 3433092.60it/s]\n",
      "100%|██████████| 1596522/1596522 [00:00<00:00, 3387623.59it/s]\n",
      "100%|██████████| 1596522/1596522 [00:00<00:00, 3488545.83it/s]\n",
      "100%|██████████| 1596522/1596522 [00:00<00:00, 3511493.45it/s]\n",
      "100%|██████████| 1596522/1596522 [00:00<00:00, 3415091.94it/s]\n",
      "100%|██████████| 1596522/1596522 [00:00<00:00, 3381885.30it/s]\n",
      "100%|██████████| 1596522/1596522 [00:00<00:00, 3421618.29it/s]\n",
      "100%|██████████| 1596522/1596522 [00:00<00:00, 3323493.97it/s]\n",
      "100%|██████████| 1596522/1596522 [00:00<00:00, 3312963.97it/s]\n",
      "100%|██████████| 1596522/1596522 [00:00<00:00, 3307589.98it/s]\n",
      "100%|██████████| 1596522/1596522 [00:00<00:00, 3355430.59it/s]\n",
      "100%|██████████| 1596522/1596522 [00:00<00:00, 3484998.22it/s]\n",
      "100%|██████████| 1596522/1596522 [00:00<00:00, 3348693.47it/s]\n",
      "100%|██████████| 1596522/1596522 [00:00<00:00, 3499901.54it/s]\n",
      "100%|██████████| 1596522/1596522 [00:00<00:00, 3461334.96it/s]\n",
      "100%|██████████| 1596522/1596522 [00:00<00:00, 3448745.77it/s]\n",
      "100%|██████████| 1596522/1596522 [00:00<00:00, 3447254.42it/s]\n",
      "100%|██████████| 1596522/1596522 [00:00<00:00, 3458196.02it/s]\n",
      "100%|██████████| 1596522/1596522 [00:00<00:00, 3487548.36it/s]\n",
      "100%|██████████| 1596522/1596522 [00:00<00:00, 3408958.30it/s]\n",
      "100%|██████████| 1596522/1596522 [00:00<00:00, 3491669.13it/s]\n",
      "100%|██████████| 1596522/1596522 [00:00<00:00, 3369879.98it/s]\n",
      "100%|██████████| 1596522/1596522 [00:00<00:00, 3153423.81it/s]\n",
      "100%|██████████| 1596522/1596522 [00:00<00:00, 3464594.32it/s]\n",
      "100%|██████████| 1596522/1596522 [00:00<00:00, 3429470.63it/s]\n",
      "100%|██████████| 1596522/1596522 [00:00<00:00, 3339082.03it/s]\n"
     ]
    }
   ],
   "source": [
    "for epoch in range(30):\n",
    "    model_tg_dbow.train(utils.shuffle([x for x in tqdm(all_x_w2v_tg)]), total_examples=len(all_x_w2v_tg), epochs=1)\n",
    "    model_tg_dbow.alpha -= 0.002\n",
    "    model_tg_dbow.min_alpha = model_tg_dbow.alpha"
   ]
  },
  {
   "cell_type": "code",
   "execution_count": 21,
   "metadata": {},
   "outputs": [],
   "source": [
    "train_vecs_dbow_tg = get_vectors(model_tg_dbow, x_train, 100)\n",
    "validation_vecs_dbow_tg = get_vectors(model_tg_dbow, x_validation, 100)"
   ]
  },
  {
   "cell_type": "code",
   "execution_count": 22,
   "metadata": {},
   "outputs": [
    {
     "data": {
      "text/plain": [
       "LogisticRegression(C=1.0, class_weight=None, dual=False, fit_intercept=True,\n",
       "          intercept_scaling=1, max_iter=100, multi_class='ovr', n_jobs=1,\n",
       "          penalty='l2', random_state=None, solver='liblinear', tol=0.0001,\n",
       "          verbose=0, warm_start=False)"
      ]
     },
     "execution_count": 22,
     "metadata": {},
     "output_type": "execute_result"
    }
   ],
   "source": [
    "clf = LogisticRegression()\n",
    "clf.fit(train_vecs_dbow_tg, y_train)\n"
   ]
  },
  {
   "cell_type": "code",
   "execution_count": 23,
   "metadata": {},
   "outputs": [
    {
     "data": {
      "text/plain": [
       "0.7408080175383652"
      ]
     },
     "execution_count": 23,
     "metadata": {},
     "output_type": "execute_result"
    }
   ],
   "source": [
    "clf.score(validation_vecs_dbow_tg, y_validation)\n"
   ]
  },
  {
   "cell_type": "code",
   "execution_count": 24,
   "metadata": {},
   "outputs": [],
   "source": [
    "model_tg_dbow.save('d2v_model_tg_dbow.doc2vec')\n"
   ]
  },
  {
   "cell_type": "code",
   "execution_count": 25,
   "metadata": {},
   "outputs": [
    {
     "name": "stderr",
     "output_type": "stream",
     "text": [
      "/usr/local/lib/python3.5/dist-packages/gensim/models/doc2vec.py:580: UserWarning: The parameter `size` is deprecated, will be removed in 4.0.0, use `vector_size` instead.\n",
      "  warnings.warn(\"The parameter `size` is deprecated, will be removed in 4.0.0, use `vector_size` instead.\")\n",
      "100%|██████████| 1596522/1596522 [00:12<00:00, 128754.96it/s]\n"
     ]
    }
   ],
   "source": [
    "cores = multiprocessing.cpu_count()\n",
    "model_tg_dmc = Doc2Vec(dm=1, dm_concat=1, size=100, window=2, negative=5, min_count=2, workers=cores, alpha=0.065, min_alpha=0.065)\n",
    "model_tg_dmc.build_vocab([x for x in tqdm(all_x_w2v_tg)])\n"
   ]
  },
  {
   "cell_type": "code",
   "execution_count": 26,
   "metadata": {},
   "outputs": [
    {
     "name": "stderr",
     "output_type": "stream",
     "text": [
      "100%|██████████| 1596522/1596522 [00:00<00:00, 3301508.89it/s]\n",
      "100%|██████████| 1596522/1596522 [00:00<00:00, 3307573.65it/s]\n",
      "100%|██████████| 1596522/1596522 [00:00<00:00, 3406105.90it/s]\n",
      "100%|██████████| 1596522/1596522 [00:00<00:00, 3407860.13it/s]\n",
      "100%|██████████| 1596522/1596522 [00:00<00:00, 3235861.67it/s]\n",
      "100%|██████████| 1596522/1596522 [00:00<00:00, 3477120.94it/s]\n",
      "100%|██████████| 1596522/1596522 [00:00<00:00, 3439332.90it/s]\n",
      "100%|██████████| 1596522/1596522 [00:00<00:00, 3507831.04it/s]\n",
      "100%|██████████| 1596522/1596522 [00:00<00:00, 3408120.29it/s]\n",
      "100%|██████████| 1596522/1596522 [00:00<00:00, 3358788.27it/s]\n",
      "100%|██████████| 1596522/1596522 [00:00<00:00, 3471295.24it/s]\n",
      "100%|██████████| 1596522/1596522 [00:00<00:00, 3443020.00it/s]\n",
      "100%|██████████| 1596522/1596522 [00:00<00:00, 3494130.59it/s]\n",
      "100%|██████████| 1596522/1596522 [00:00<00:00, 3510296.94it/s]\n",
      "100%|██████████| 1596522/1596522 [00:00<00:00, 3405513.48it/s]\n",
      "100%|██████████| 1596522/1596522 [00:00<00:00, 3395702.73it/s]\n",
      "100%|██████████| 1596522/1596522 [00:00<00:00, 3372994.78it/s]\n",
      "100%|██████████| 1596522/1596522 [00:00<00:00, 3484403.42it/s]\n",
      "100%|██████████| 1596522/1596522 [00:00<00:00, 3496095.32it/s]\n",
      "100%|██████████| 1596522/1596522 [00:00<00:00, 3394487.45it/s]\n",
      "100%|██████████| 1596522/1596522 [00:00<00:00, 3257830.83it/s]\n",
      "100%|██████████| 1596522/1596522 [00:00<00:00, 3495407.32it/s]\n",
      "100%|██████████| 1596522/1596522 [00:00<00:00, 3398950.01it/s]\n",
      "100%|██████████| 1596522/1596522 [00:00<00:00, 3495451.11it/s]\n",
      "100%|██████████| 1596522/1596522 [00:00<00:00, 3500898.77it/s]\n",
      "100%|██████████| 1596522/1596522 [00:00<00:00, 3335318.34it/s]\n",
      "100%|██████████| 1596522/1596522 [00:00<00:00, 3469449.95it/s]\n",
      "100%|██████████| 1596522/1596522 [00:00<00:00, 3487096.14it/s]\n",
      "100%|██████████| 1596522/1596522 [00:00<00:00, 3439912.41it/s]\n",
      "100%|██████████| 1596522/1596522 [00:00<00:00, 3422237.32it/s]\n"
     ]
    }
   ],
   "source": [
    "for epoch in range(30):\n",
    "    model_tg_dmc.train(utils.shuffle([x for x in tqdm(all_x_w2v_tg)]), total_examples=len(all_x_w2v_tg), epochs=1)\n",
    "    model_tg_dmc.alpha -= 0.002\n",
    "    model_tg_dmc.min_alpha = model_tg_dmc.alpha"
   ]
  },
  {
   "cell_type": "code",
   "execution_count": 27,
   "metadata": {},
   "outputs": [],
   "source": [
    "train_vecs_dmc_tg = get_vectors(model_tg_dmc, x_train, 100)\n",
    "validation_vecs_dmc_tg = get_vectors(model_tg_dmc, x_validation, 100)\n"
   ]
  },
  {
   "cell_type": "code",
   "execution_count": 28,
   "metadata": {},
   "outputs": [
    {
     "data": {
      "text/plain": [
       "LogisticRegression(C=1.0, class_weight=None, dual=False, fit_intercept=True,\n",
       "          intercept_scaling=1, max_iter=100, multi_class='ovr', n_jobs=1,\n",
       "          penalty='l2', random_state=None, solver='liblinear', tol=0.0001,\n",
       "          verbose=0, warm_start=False)"
      ]
     },
     "execution_count": 28,
     "metadata": {},
     "output_type": "execute_result"
    }
   ],
   "source": [
    "clf = LogisticRegression()\n",
    "clf.fit(train_vecs_dmc_tg, y_train)"
   ]
  },
  {
   "cell_type": "code",
   "execution_count": 29,
   "metadata": {},
   "outputs": [
    {
     "data": {
      "text/plain": [
       "0.653554650798622"
      ]
     },
     "execution_count": 29,
     "metadata": {},
     "output_type": "execute_result"
    }
   ],
   "source": [
    "clf.score(validation_vecs_dmc_tg, y_validation)\n"
   ]
  },
  {
   "cell_type": "code",
   "execution_count": 30,
   "metadata": {},
   "outputs": [],
   "source": [
    "model_tg_dmc.save('d2v_model_tg_dmc.doc2vec')"
   ]
  },
  {
   "cell_type": "code",
   "execution_count": 31,
   "metadata": {},
   "outputs": [
    {
     "name": "stderr",
     "output_type": "stream",
     "text": [
      "/usr/local/lib/python3.5/dist-packages/gensim/models/doc2vec.py:580: UserWarning: The parameter `size` is deprecated, will be removed in 4.0.0, use `vector_size` instead.\n",
      "  warnings.warn(\"The parameter `size` is deprecated, will be removed in 4.0.0, use `vector_size` instead.\")\n",
      "100%|██████████| 1596522/1596522 [00:13<00:00, 114924.90it/s]\n"
     ]
    }
   ],
   "source": [
    "cores = multiprocessing.cpu_count()\n",
    "model_tg_dmm = Doc2Vec(dm=1, dm_mean=1, size=100, window=4, negative=5, min_count=2, workers=cores, alpha=0.065, min_alpha=0.065)\n",
    "model_tg_dmm.build_vocab([x for x in tqdm(all_x_w2v_tg)])\n"
   ]
  },
  {
   "cell_type": "code",
   "execution_count": 32,
   "metadata": {},
   "outputs": [
    {
     "name": "stderr",
     "output_type": "stream",
     "text": [
      "100%|██████████| 1596522/1596522 [00:01<00:00, 940469.32it/s]\n",
      "100%|██████████| 1596522/1596522 [00:00<00:00, 3170238.68it/s]\n",
      "100%|██████████| 1596522/1596522 [00:00<00:00, 3244043.10it/s]\n",
      "100%|██████████| 1596522/1596522 [00:00<00:00, 3188297.63it/s]\n",
      "100%|██████████| 1596522/1596522 [00:00<00:00, 3265310.02it/s]\n",
      "100%|██████████| 1596522/1596522 [00:00<00:00, 3221386.15it/s]\n",
      "100%|██████████| 1596522/1596522 [00:00<00:00, 3443756.60it/s]\n",
      "100%|██████████| 1596522/1596522 [00:00<00:00, 3242472.27it/s]\n",
      "100%|██████████| 1596522/1596522 [00:00<00:00, 3408796.92it/s]\n",
      "100%|██████████| 1596522/1596522 [00:00<00:00, 3455861.60it/s]\n",
      "100%|██████████| 1596522/1596522 [00:00<00:00, 3274580.93it/s]\n",
      "100%|██████████| 1596522/1596522 [00:00<00:00, 3441565.44it/s]\n",
      "100%|██████████| 1596522/1596522 [00:00<00:00, 3478893.06it/s]\n",
      "100%|██████████| 1596522/1596522 [00:00<00:00, 3418669.62it/s]\n",
      "100%|██████████| 1596522/1596522 [00:00<00:00, 3416857.18it/s]\n",
      "100%|██████████| 1596522/1596522 [00:00<00:00, 3453346.88it/s]\n",
      "100%|██████████| 1596522/1596522 [00:00<00:00, 3299867.30it/s]\n",
      "100%|██████████| 1596522/1596522 [00:00<00:00, 3403936.42it/s]\n",
      "100%|██████████| 1596522/1596522 [00:00<00:00, 3458973.07it/s]\n",
      "100%|██████████| 1596522/1596522 [00:00<00:00, 3413300.68it/s]\n",
      "100%|██████████| 1596522/1596522 [00:00<00:00, 3373212.27it/s]\n",
      "100%|██████████| 1596522/1596522 [00:00<00:00, 3480155.07it/s]\n",
      "100%|██████████| 1596522/1596522 [00:00<00:00, 3505427.31it/s]\n",
      "100%|██████████| 1596522/1596522 [00:00<00:00, 3404102.54it/s]\n",
      "100%|██████████| 1596522/1596522 [00:00<00:00, 3373640.53it/s]\n",
      "100%|██████████| 1596522/1596522 [00:00<00:00, 3417432.63it/s]\n",
      "100%|██████████| 1596522/1596522 [00:00<00:00, 3395516.76it/s]\n",
      "100%|██████████| 1596522/1596522 [00:00<00:00, 3476115.55it/s]\n",
      "100%|██████████| 1596522/1596522 [00:00<00:00, 3391836.16it/s]\n",
      "100%|██████████| 1596522/1596522 [00:00<00:00, 3487281.37it/s]\n"
     ]
    }
   ],
   "source": [
    "for epoch in range(30):\n",
    "    model_tg_dmm.train(utils.shuffle([x for x in tqdm(all_x_w2v_tg)]), total_examples=len(all_x_w2v_tg), epochs=1)\n",
    "    model_tg_dmm.alpha -= 0.002\n",
    "    model_tg_dmc.min_alpha = model_tg_dmc.alpha"
   ]
  },
  {
   "cell_type": "code",
   "execution_count": 33,
   "metadata": {},
   "outputs": [],
   "source": [
    "train_vecs_dmm_tg = get_vectors(model_tg_dmm, x_train, 100)\n",
    "validation_vecs_dmm_tg = get_vectors(model_tg_dmm, x_validation, 100)\n"
   ]
  },
  {
   "cell_type": "code",
   "execution_count": 34,
   "metadata": {},
   "outputs": [
    {
     "data": {
      "text/plain": [
       "LogisticRegression(C=1.0, class_weight=None, dual=False, fit_intercept=True,\n",
       "          intercept_scaling=1, max_iter=100, multi_class='ovr', n_jobs=1,\n",
       "          penalty='l2', random_state=None, solver='liblinear', tol=0.0001,\n",
       "          verbose=0, warm_start=False)"
      ]
     },
     "execution_count": 34,
     "metadata": {},
     "output_type": "execute_result"
    }
   ],
   "source": [
    "clf = LogisticRegression()\n",
    "clf.fit(train_vecs_dmm_tg, y_train)\n"
   ]
  },
  {
   "cell_type": "code",
   "execution_count": 35,
   "metadata": {},
   "outputs": [
    {
     "data": {
      "text/plain": [
       "0.7411838396492327"
      ]
     },
     "execution_count": 35,
     "metadata": {},
     "output_type": "execute_result"
    }
   ],
   "source": [
    "clf.score(validation_vecs_dmm_tg, y_validation)\n"
   ]
  },
  {
   "cell_type": "code",
   "execution_count": 36,
   "metadata": {},
   "outputs": [],
   "source": [
    "model_tg_dmm.save('d2v_model_tg_dmm.doc2vec')\n"
   ]
  },
  {
   "cell_type": "code",
   "execution_count": 17,
   "metadata": {},
   "outputs": [],
   "source": [
    "model_tg_dbow = Doc2Vec.load('d2v_model_tg_dbow.doc2vec')\n",
    "model_tg_dmm = Doc2Vec.load('d2v_model_tg_dmm.doc2vec')"
   ]
  },
  {
   "cell_type": "code",
   "execution_count": 18,
   "metadata": {},
   "outputs": [],
   "source": [
    "train_vecs_dbow_dmm_tg = get_concat_vectors(model_tg_dbow,model_tg_dmm, x_train, 200)\n",
    "validation_vecs_dbow_dmm_tg = get_concat_vectors(model_tg_dbow,model_tg_dmm, x_validation, 200)\n"
   ]
  },
  {
   "cell_type": "code",
   "execution_count": 19,
   "metadata": {},
   "outputs": [
    {
     "data": {
      "text/plain": [
       "LogisticRegression(C=1.0, class_weight=None, dual=False, fit_intercept=True,\n",
       "          intercept_scaling=1, max_iter=100, multi_class='ovr', n_jobs=1,\n",
       "          penalty='l2', random_state=None, solver='liblinear', tol=0.0001,\n",
       "          verbose=0, warm_start=False)"
      ]
     },
     "execution_count": 19,
     "metadata": {},
     "output_type": "execute_result"
    }
   ],
   "source": [
    "clf = LogisticRegression()\n",
    "clf.fit(train_vecs_dbow_dmm_tg, y_train)"
   ]
  },
  {
   "cell_type": "code",
   "execution_count": 20,
   "metadata": {},
   "outputs": [
    {
     "data": {
      "text/plain": [
       "0.7636078922643282"
      ]
     },
     "execution_count": 20,
     "metadata": {},
     "output_type": "execute_result"
    }
   ],
   "source": [
    "clf.score(validation_vecs_dbow_dmm_tg, y_validation)\n"
   ]
  },
  {
   "cell_type": "code",
   "execution_count": null,
   "metadata": {},
   "outputs": [],
   "source": []
  }
 ],
 "metadata": {
  "kernelspec": {
   "display_name": "Python 3",
   "language": "python",
   "name": "python3"
  },
  "language_info": {
   "codemirror_mode": {
    "name": "ipython",
    "version": 3
   },
   "file_extension": ".py",
   "mimetype": "text/x-python",
   "name": "python",
   "nbconvert_exporter": "python",
   "pygments_lexer": "ipython3",
   "version": "3.5.2"
  }
 },
 "nbformat": 4,
 "nbformat_minor": 2
}
